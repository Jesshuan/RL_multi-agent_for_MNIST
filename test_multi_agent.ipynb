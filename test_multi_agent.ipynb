{
 "cells": [
  {
   "cell_type": "code",
   "execution_count": 1,
   "metadata": {},
   "outputs": [],
   "source": [
    "from draft import MultiAgentBrain"
   ]
  },
  {
   "cell_type": "code",
   "execution_count": 2,
   "metadata": {},
   "outputs": [
    {
     "data": {
      "text/plain": [
       "{'sensor:clear-eye': 2,\n",
       " 'sensor:blur-eye': 2,\n",
       " 'actuator:rotor-horizontal-eye': 1,\n",
       " 'actuator:rotor-vertical-eye': 1,\n",
       " 'actuator:discriminator': 1,\n",
       " 'hidden:1': 12,\n",
       " 'hidden:2': 4}"
      ]
     },
     "execution_count": 2,
     "metadata": {},
     "output_type": "execute_result"
    }
   ],
   "source": [
    "m_agent = MultiAgentBrain()\n",
    "m_agent.init_agents_composition"
   ]
  },
  {
   "cell_type": "code",
   "execution_count": 3,
   "metadata": {},
   "outputs": [],
   "source": [
    "m_agent.build_agents_registry()"
   ]
  },
  {
   "cell_type": "code",
   "execution_count": 4,
   "metadata": {},
   "outputs": [
    {
     "data": {
      "text/plain": [
       "{'sensor:clear-eye_0': <draft.SensorAgent at 0x720041bf6110>,\n",
       " 'sensor:clear-eye_1': <draft.SensorAgent at 0x720041bf6200>,\n",
       " 'sensor:blur-eye_0': <draft.SensorAgent at 0x720041bf61d0>,\n",
       " 'sensor:blur-eye_1': <draft.SensorAgent at 0x720041bf61a0>,\n",
       " 'actuator:rotor-horizontal-eye_0': <draft.ActuatorAgent at 0x720041bf5210>,\n",
       " 'actuator:rotor-vertical-eye_0': <draft.ActuatorAgent at 0x720041bf6620>,\n",
       " 'actuator:discriminator_0': <draft.ActuatorAgent at 0x720041bf6170>,\n",
       " 'hidden:1_0': <draft.HiddenAgent at 0x720041bf6680>,\n",
       " 'hidden:1_1': <draft.HiddenAgent at 0x720041bf6590>,\n",
       " 'hidden:1_2': <draft.HiddenAgent at 0x720041bf6650>,\n",
       " 'hidden:1_3': <draft.HiddenAgent at 0x720041bf65c0>,\n",
       " 'hidden:1_4': <draft.HiddenAgent at 0x720041bf65f0>,\n",
       " 'hidden:1_5': <draft.HiddenAgent at 0x720041bf66b0>,\n",
       " 'hidden:1_6': <draft.HiddenAgent at 0x720041bf6740>,\n",
       " 'hidden:1_7': <draft.HiddenAgent at 0x720041bf66e0>,\n",
       " 'hidden:1_8': <draft.HiddenAgent at 0x720041bf6710>,\n",
       " 'hidden:1_9': <draft.HiddenAgent at 0x720041bf6830>,\n",
       " 'hidden:1_10': <draft.HiddenAgent at 0x720041bf6860>,\n",
       " 'hidden:1_11': <draft.HiddenAgent at 0x720041bf6890>,\n",
       " 'hidden:2_0': <draft.HiddenAgent at 0x720041bf6560>,\n",
       " 'hidden:2_1': <draft.HiddenAgent at 0x720041bf68f0>,\n",
       " 'hidden:2_2': <draft.HiddenAgent at 0x720041bf6980>,\n",
       " 'hidden:2_3': <draft.HiddenAgent at 0x720041bf69b0>}"
      ]
     },
     "execution_count": 4,
     "metadata": {},
     "output_type": "execute_result"
    }
   ],
   "source": [
    "m_agent.agents_registry"
   ]
  },
  {
   "cell_type": "code",
   "execution_count": 5,
   "metadata": {},
   "outputs": [],
   "source": [
    "m_agent.build_agents_connexions()"
   ]
  },
  {
   "cell_type": "code",
   "execution_count": 6,
   "metadata": {},
   "outputs": [
    {
     "data": {
      "text/plain": [
       "{'sensor:clear-eye_0': [],\n",
       " 'sensor:clear-eye_1': [],\n",
       " 'sensor:blur-eye_0': [],\n",
       " 'sensor:blur-eye_1': [],\n",
       " 'actuator:rotor-horizontal-eye_0': ['actuator:rotor-vertical-eye_0',\n",
       "  'actuator:discriminator_0',\n",
       "  'hidden:1_11',\n",
       "  'hidden:1_5',\n",
       "  'hidden:1_9',\n",
       "  'hidden:1_1',\n",
       "  'hidden:1_8',\n",
       "  'hidden:1_2'],\n",
       " 'actuator:rotor-vertical-eye_0': ['actuator:rotor-horizontal-eye_0',\n",
       "  'actuator:discriminator_0',\n",
       "  'hidden:1_8',\n",
       "  'hidden:1_0',\n",
       "  'hidden:1_3',\n",
       "  'hidden:1_4',\n",
       "  'hidden:1_2',\n",
       "  'hidden:1_10'],\n",
       " 'actuator:discriminator_0': ['actuator:rotor-vertical-eye_0',\n",
       "  'actuator:rotor-horizontal-eye_0',\n",
       "  'hidden:1_0',\n",
       "  'hidden:1_9',\n",
       "  'hidden:1_6',\n",
       "  'hidden:1_8',\n",
       "  'hidden:1_3',\n",
       "  'hidden:1_5'],\n",
       " 'hidden:1_0': ['hidden:1_8',\n",
       "  'hidden:1_10',\n",
       "  'actuator:rotor-horizontal-eye_0',\n",
       "  'actuator:discriminator_0',\n",
       "  'sensor:blur-eye_0',\n",
       "  'hidden:2_0',\n",
       "  'hidden:2_2',\n",
       "  'hidden:2_3'],\n",
       " 'hidden:1_1': ['hidden:1_7',\n",
       "  'hidden:1_11',\n",
       "  'sensor:blur-eye_0',\n",
       "  'actuator:rotor-horizontal-eye_0',\n",
       "  'sensor:clear-eye_1',\n",
       "  'hidden:2_2',\n",
       "  'hidden:2_3',\n",
       "  'hidden:2_0'],\n",
       " 'hidden:1_2': ['hidden:1_1',\n",
       "  'hidden:1_7',\n",
       "  'sensor:blur-eye_0',\n",
       "  'actuator:discriminator_0',\n",
       "  'sensor:clear-eye_0',\n",
       "  'hidden:2_3',\n",
       "  'hidden:2_0',\n",
       "  'hidden:2_1'],\n",
       " 'hidden:1_3': ['hidden:1_11',\n",
       "  'hidden:1_0',\n",
       "  'sensor:blur-eye_1',\n",
       "  'actuator:discriminator_0',\n",
       "  'actuator:rotor-horizontal-eye_0',\n",
       "  'hidden:2_0',\n",
       "  'hidden:2_3',\n",
       "  'hidden:2_2'],\n",
       " 'hidden:1_4': ['hidden:1_3',\n",
       "  'hidden:1_7',\n",
       "  'sensor:clear-eye_1',\n",
       "  'sensor:blur-eye_0',\n",
       "  'actuator:rotor-vertical-eye_0',\n",
       "  'hidden:2_0',\n",
       "  'hidden:2_3',\n",
       "  'hidden:2_1'],\n",
       " 'hidden:1_5': ['hidden:1_4',\n",
       "  'hidden:1_9',\n",
       "  'sensor:clear-eye_1',\n",
       "  'actuator:discriminator_0',\n",
       "  'sensor:clear-eye_0',\n",
       "  'hidden:2_3',\n",
       "  'hidden:2_0',\n",
       "  'hidden:2_2'],\n",
       " 'hidden:1_6': ['hidden:1_3',\n",
       "  'hidden:1_8',\n",
       "  'sensor:blur-eye_0',\n",
       "  'sensor:clear-eye_1',\n",
       "  'actuator:discriminator_0',\n",
       "  'hidden:2_1',\n",
       "  'hidden:2_0',\n",
       "  'hidden:2_2'],\n",
       " 'hidden:1_7': ['hidden:1_9',\n",
       "  'hidden:1_8',\n",
       "  'sensor:blur-eye_1',\n",
       "  'sensor:clear-eye_1',\n",
       "  'actuator:discriminator_0',\n",
       "  'hidden:2_1',\n",
       "  'hidden:2_0',\n",
       "  'hidden:2_3'],\n",
       " 'hidden:1_8': ['hidden:1_10',\n",
       "  'hidden:1_5',\n",
       "  'actuator:rotor-horizontal-eye_0',\n",
       "  'sensor:blur-eye_1',\n",
       "  'actuator:discriminator_0',\n",
       "  'hidden:2_2',\n",
       "  'hidden:2_1',\n",
       "  'hidden:2_0'],\n",
       " 'hidden:1_9': ['hidden:1_0',\n",
       "  'hidden:1_1',\n",
       "  'sensor:clear-eye_1',\n",
       "  'sensor:blur-eye_0',\n",
       "  'actuator:rotor-vertical-eye_0',\n",
       "  'hidden:2_0',\n",
       "  'hidden:2_2',\n",
       "  'hidden:2_1'],\n",
       " 'hidden:1_10': ['hidden:1_1',\n",
       "  'hidden:1_3',\n",
       "  'sensor:clear-eye_0',\n",
       "  'actuator:rotor-vertical-eye_0',\n",
       "  'actuator:discriminator_0',\n",
       "  'hidden:2_1',\n",
       "  'hidden:2_2',\n",
       "  'hidden:2_0'],\n",
       " 'hidden:1_11': ['hidden:1_3',\n",
       "  'hidden:1_7',\n",
       "  'sensor:blur-eye_1',\n",
       "  'actuator:discriminator_0',\n",
       "  'sensor:clear-eye_1',\n",
       "  'hidden:2_2',\n",
       "  'hidden:2_1',\n",
       "  'hidden:2_0'],\n",
       " 'hidden:2_0': ['hidden:2_1',\n",
       "  'hidden:2_2',\n",
       "  'hidden:1_1',\n",
       "  'hidden:1_7',\n",
       "  'hidden:1_2',\n",
       "  'hidden:1_6',\n",
       "  'hidden:1_4',\n",
       "  'hidden:1_11'],\n",
       " 'hidden:2_1': ['hidden:2_0',\n",
       "  'hidden:2_3',\n",
       "  'hidden:1_7',\n",
       "  'hidden:1_2',\n",
       "  'hidden:1_8',\n",
       "  'hidden:1_6',\n",
       "  'hidden:1_0',\n",
       "  'hidden:1_10'],\n",
       " 'hidden:2_2': ['hidden:2_3',\n",
       "  'hidden:2_1',\n",
       "  'hidden:1_10',\n",
       "  'hidden:1_7',\n",
       "  'hidden:1_4',\n",
       "  'hidden:1_11',\n",
       "  'hidden:1_5',\n",
       "  'hidden:1_3'],\n",
       " 'hidden:2_3': ['hidden:2_0',\n",
       "  'hidden:2_1',\n",
       "  'hidden:1_5',\n",
       "  'hidden:1_0',\n",
       "  'hidden:1_9',\n",
       "  'hidden:1_1',\n",
       "  'hidden:1_11',\n",
       "  'hidden:1_2']}"
      ]
     },
     "execution_count": 6,
     "metadata": {},
     "output_type": "execute_result"
    }
   ],
   "source": [
    "m_agent.agents_connexion"
   ]
  },
  {
   "cell_type": "code",
   "execution_count": 7,
   "metadata": {},
   "outputs": [],
   "source": [
    "m_agent.distrib_global_reward(1000, direct_agent_group=\"actuator:discriminator\")"
   ]
  },
  {
   "cell_type": "code",
   "execution_count": 8,
   "metadata": {},
   "outputs": [
    {
     "data": {
      "text/plain": [
       "['sensor:clear-eye_0',\n",
       " 'sensor:clear-eye_1',\n",
       " 'sensor:blur-eye_0',\n",
       " 'sensor:blur-eye_1',\n",
       " 'actuator:rotor-horizontal-eye_0',\n",
       " 'actuator:rotor-vertical-eye_0',\n",
       " 'actuator:discriminator_0',\n",
       " 'hidden:1_0',\n",
       " 'hidden:1_1',\n",
       " 'hidden:1_2',\n",
       " 'hidden:1_3',\n",
       " 'hidden:1_4',\n",
       " 'hidden:1_5',\n",
       " 'hidden:1_6',\n",
       " 'hidden:1_7',\n",
       " 'hidden:1_8',\n",
       " 'hidden:1_9',\n",
       " 'hidden:1_10',\n",
       " 'hidden:1_11',\n",
       " 'hidden:2_0',\n",
       " 'hidden:2_1',\n",
       " 'hidden:2_2',\n",
       " 'hidden:2_3']"
      ]
     },
     "execution_count": 8,
     "metadata": {},
     "output_type": "execute_result"
    }
   ],
   "source": [
    "[agent_id for agent_id in m_agent.agents_registry.keys()]"
   ]
  },
  {
   "cell_type": "code",
   "execution_count": 9,
   "metadata": {},
   "outputs": [
    {
     "data": {
      "text/plain": [
       "[[64],\n",
       " [64, 64, 64],\n",
       " [64, 64, 64],\n",
       " [64, 64],\n",
       " [248, 64, 64, 64, 64],\n",
       " [248, 64, 64],\n",
       " [500, 64, 64, 64, 64, 64, 64, 64],\n",
       " [248, 64, 64, 64],\n",
       " [64, 64],\n",
       " [64, 64],\n",
       " [248, 64, 64],\n",
       " [64, 64],\n",
       " [248, 64, 64],\n",
       " [248],\n",
       " [],\n",
       " [248, 64, 64, 64, 64],\n",
       " [248, 64, 64],\n",
       " [64, 64, 64],\n",
       " [64, 64],\n",
       " [64, 64, 64, 64, 64, 64],\n",
       " [64, 64, 64],\n",
       " [64, 64, 64, 64, 64, 64],\n",
       " [64, 64, 64]]"
      ]
     },
     "execution_count": 9,
     "metadata": {},
     "output_type": "execute_result"
    }
   ],
   "source": [
    "[agent.reward_history for agent in m_agent.agents_registry.values()]"
   ]
  }
 ],
 "metadata": {
  "kernelspec": {
   "display_name": "ml_basic",
   "language": "python",
   "name": "python3"
  },
  "language_info": {
   "codemirror_mode": {
    "name": "ipython",
    "version": 3
   },
   "file_extension": ".py",
   "mimetype": "text/x-python",
   "name": "python",
   "nbconvert_exporter": "python",
   "pygments_lexer": "ipython3",
   "version": "3.10.13"
  }
 },
 "nbformat": 4,
 "nbformat_minor": 2
}
