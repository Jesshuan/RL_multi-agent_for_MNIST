{
 "cells": [
  {
   "cell_type": "code",
   "execution_count": 1,
   "metadata": {},
   "outputs": [],
   "source": [
    "from multi_agents.multi_agent_brain.mab_base import MultiAgentBrain"
   ]
  },
  {
   "cell_type": "code",
   "execution_count": 3,
   "metadata": {},
   "outputs": [],
   "source": [
    "init_agent_composition = {\n",
    "    \"sensor:lalala\" : 2,\n",
    "    \"actuator:cecicecla\":3,\n",
    "    \"actuator:papy\":4,\n",
    "    \"sensor:ralala\":3,\n",
    "    \"hidden:1\": 10\n",
    "}"
   ]
  },
  {
   "cell_type": "code",
   "execution_count": 4,
   "metadata": {},
   "outputs": [
    {
     "data": {
      "text/plain": [
       "{'sensor:lalala': 2,\n",
       " 'actuator:cecicecla': 3,\n",
       " 'actuator:papy': 4,\n",
       " 'sensor:ralala': 3,\n",
       " 'hidden:1': 10}"
      ]
     },
     "execution_count": 4,
     "metadata": {},
     "output_type": "execute_result"
    }
   ],
   "source": [
    "m_agent = MultiAgentBrain(init_agents_composition=init_agent_composition)\n",
    "m_agent.init_agents_composition"
   ]
  },
  {
   "cell_type": "code",
   "execution_count": 5,
   "metadata": {},
   "outputs": [],
   "source": [
    "m_agent.build_agents_registry()"
   ]
  },
  {
   "cell_type": "code",
   "execution_count": 6,
   "metadata": {},
   "outputs": [
    {
     "data": {
      "text/plain": [
       "{'sensor:lalala_0': <multi_agents.generic_agent.generic_agents.SensorAgent at 0x773e2c3237c0>,\n",
       " 'sensor:lalala_1': <multi_agents.generic_agent.generic_agents.SensorAgent at 0x773e2c320e80>,\n",
       " 'actuator:cecicecla_0': <multi_agents.generic_agent.generic_agents.ActuatorAgent at 0x773e2c320cd0>,\n",
       " 'actuator:cecicecla_1': <multi_agents.generic_agent.generic_agents.ActuatorAgent at 0x773e2c321e40>,\n",
       " 'actuator:cecicecla_2': <multi_agents.generic_agent.generic_agents.ActuatorAgent at 0x773e2c320490>,\n",
       " 'actuator:papy_0': <multi_agents.generic_agent.generic_agents.ActuatorAgent at 0x773e2c3214e0>,\n",
       " 'actuator:papy_1': <multi_agents.generic_agent.generic_agents.ActuatorAgent at 0x773e2c320580>,\n",
       " 'actuator:papy_2': <multi_agents.generic_agent.generic_agents.ActuatorAgent at 0x773e2c320a90>,\n",
       " 'actuator:papy_3': <multi_agents.generic_agent.generic_agents.ActuatorAgent at 0x773e2c3229b0>,\n",
       " 'sensor:ralala_0': <multi_agents.generic_agent.generic_agents.SensorAgent at 0x773e2c321f30>,\n",
       " 'sensor:ralala_1': <multi_agents.generic_agent.generic_agents.SensorAgent at 0x773e2c322da0>,\n",
       " 'sensor:ralala_2': <multi_agents.generic_agent.generic_agents.SensorAgent at 0x773e2c320df0>,\n",
       " 'hidden:1_0': <multi_agents.generic_agent.generic_agents.HiddenAgent at 0x773e2c3224d0>,\n",
       " 'hidden:1_1': <multi_agents.generic_agent.generic_agents.HiddenAgent at 0x773e2c322230>,\n",
       " 'hidden:1_2': <multi_agents.generic_agent.generic_agents.HiddenAgent at 0x773e2c320190>,\n",
       " 'hidden:1_3': <multi_agents.generic_agent.generic_agents.HiddenAgent at 0x773e2c322350>,\n",
       " 'hidden:1_4': <multi_agents.generic_agent.generic_agents.HiddenAgent at 0x773e2c321d80>,\n",
       " 'hidden:1_5': <multi_agents.generic_agent.generic_agents.HiddenAgent at 0x773e2c3231c0>,\n",
       " 'hidden:1_6': <multi_agents.generic_agent.generic_agents.HiddenAgent at 0x773e2c3202e0>,\n",
       " 'hidden:1_7': <multi_agents.generic_agent.generic_agents.HiddenAgent at 0x773e2c3221d0>,\n",
       " 'hidden:1_8': <multi_agents.generic_agent.generic_agents.HiddenAgent at 0x773e2c3222c0>,\n",
       " 'hidden:1_9': <multi_agents.generic_agent.generic_agents.HiddenAgent at 0x773e2c3222f0>}"
      ]
     },
     "execution_count": 6,
     "metadata": {},
     "output_type": "execute_result"
    }
   ],
   "source": [
    "m_agent.agents_registry"
   ]
  },
  {
   "cell_type": "code",
   "execution_count": 7,
   "metadata": {},
   "outputs": [],
   "source": [
    "m_agent.build_agents_connexions()"
   ]
  },
  {
   "cell_type": "code",
   "execution_count": 8,
   "metadata": {},
   "outputs": [
    {
     "data": {
      "text/plain": [
       "{'sensor:lalala_0': [],\n",
       " 'sensor:lalala_1': [],\n",
       " 'actuator:cecicecla_0': ['actuator:papy_0',\n",
       "  'actuator:cecicecla_1',\n",
       "  'hidden:1_3',\n",
       "  'hidden:1_7',\n",
       "  'hidden:1_1',\n",
       "  'hidden:1_2',\n",
       "  'hidden:1_8',\n",
       "  'hidden:1_4'],\n",
       " 'actuator:cecicecla_1': ['sensor:lalala_1',\n",
       "  'sensor:ralala_0',\n",
       "  'hidden:1_3',\n",
       "  'hidden:1_2',\n",
       "  'hidden:1_8',\n",
       "  'hidden:1_5',\n",
       "  'hidden:1_1',\n",
       "  'hidden:1_0'],\n",
       " 'actuator:cecicecla_2': ['actuator:cecicecla_1',\n",
       "  'actuator:papy_1',\n",
       "  'hidden:1_5',\n",
       "  'hidden:1_8',\n",
       "  'hidden:1_4',\n",
       "  'hidden:1_7',\n",
       "  'hidden:1_6',\n",
       "  'hidden:1_9'],\n",
       " 'actuator:papy_0': ['sensor:ralala_1',\n",
       "  'actuator:cecicecla_2',\n",
       "  'hidden:1_8',\n",
       "  'hidden:1_1',\n",
       "  'hidden:1_6',\n",
       "  'hidden:1_2',\n",
       "  'hidden:1_5',\n",
       "  'hidden:1_9'],\n",
       " 'actuator:papy_1': ['sensor:ralala_2',\n",
       "  'actuator:papy_0',\n",
       "  'hidden:1_7',\n",
       "  'hidden:1_6',\n",
       "  'hidden:1_4',\n",
       "  'hidden:1_8',\n",
       "  'hidden:1_1',\n",
       "  'hidden:1_9'],\n",
       " 'actuator:papy_2': ['actuator:papy_1',\n",
       "  'sensor:ralala_2',\n",
       "  'hidden:1_9',\n",
       "  'hidden:1_6',\n",
       "  'hidden:1_8',\n",
       "  'hidden:1_1',\n",
       "  'hidden:1_2',\n",
       "  'hidden:1_0'],\n",
       " 'actuator:papy_3': ['actuator:papy_0',\n",
       "  'sensor:ralala_0',\n",
       "  'hidden:1_6',\n",
       "  'hidden:1_7',\n",
       "  'hidden:1_1',\n",
       "  'hidden:1_2',\n",
       "  'hidden:1_4',\n",
       "  'hidden:1_8'],\n",
       " 'sensor:ralala_0': [],\n",
       " 'sensor:ralala_1': [],\n",
       " 'sensor:ralala_2': [],\n",
       " 'hidden:1_0': ['hidden:1_5',\n",
       "  'hidden:1_7',\n",
       "  'sensor:ralala_1',\n",
       "  'sensor:lalala_0',\n",
       "  'sensor:ralala_2',\n",
       "  'actuator:cecicecla_0',\n",
       "  'actuator:papy_1',\n",
       "  'actuator:papy_3'],\n",
       " 'hidden:1_1': ['hidden:1_3',\n",
       "  'hidden:1_7',\n",
       "  'actuator:papy_2',\n",
       "  'actuator:papy_0',\n",
       "  'sensor:ralala_0',\n",
       "  'actuator:cecicecla_2',\n",
       "  'actuator:cecicecla_0',\n",
       "  'sensor:lalala_0'],\n",
       " 'hidden:1_2': ['hidden:1_7',\n",
       "  'hidden:1_8',\n",
       "  'actuator:cecicecla_1',\n",
       "  'actuator:cecicecla_2',\n",
       "  'sensor:lalala_1',\n",
       "  'sensor:ralala_1',\n",
       "  'sensor:ralala_0',\n",
       "  'actuator:papy_1'],\n",
       " 'hidden:1_3': ['hidden:1_8',\n",
       "  'hidden:1_7',\n",
       "  'sensor:ralala_2',\n",
       "  'actuator:papy_1',\n",
       "  'actuator:cecicecla_2',\n",
       "  'sensor:lalala_1',\n",
       "  'actuator:papy_3',\n",
       "  'actuator:cecicecla_0'],\n",
       " 'hidden:1_4': ['hidden:1_6',\n",
       "  'hidden:1_3',\n",
       "  'actuator:papy_1',\n",
       "  'sensor:lalala_1',\n",
       "  'actuator:papy_2',\n",
       "  'sensor:lalala_0',\n",
       "  'sensor:ralala_2',\n",
       "  'actuator:cecicecla_1'],\n",
       " 'hidden:1_5': ['hidden:1_1',\n",
       "  'hidden:1_7',\n",
       "  'sensor:lalala_1',\n",
       "  'actuator:cecicecla_0',\n",
       "  'sensor:ralala_1',\n",
       "  'actuator:papy_2',\n",
       "  'actuator:papy_3',\n",
       "  'sensor:ralala_0'],\n",
       " 'hidden:1_6': ['hidden:1_2',\n",
       "  'hidden:1_7',\n",
       "  'actuator:papy_0',\n",
       "  'actuator:papy_3',\n",
       "  'actuator:papy_2',\n",
       "  'sensor:ralala_1',\n",
       "  'actuator:papy_1',\n",
       "  'sensor:lalala_0'],\n",
       " 'hidden:1_7': ['hidden:1_2',\n",
       "  'hidden:1_1',\n",
       "  'actuator:papy_3',\n",
       "  'actuator:papy_1',\n",
       "  'actuator:papy_2',\n",
       "  'sensor:ralala_2',\n",
       "  'actuator:cecicecla_1',\n",
       "  'sensor:ralala_1'],\n",
       " 'hidden:1_8': ['hidden:1_9',\n",
       "  'hidden:1_5',\n",
       "  'sensor:lalala_1',\n",
       "  'actuator:cecicecla_1',\n",
       "  'actuator:papy_2',\n",
       "  'actuator:papy_1',\n",
       "  'actuator:papy_3',\n",
       "  'sensor:ralala_2'],\n",
       " 'hidden:1_9': ['hidden:1_3',\n",
       "  'hidden:1_8',\n",
       "  'sensor:ralala_2',\n",
       "  'actuator:cecicecla_0',\n",
       "  'sensor:lalala_1',\n",
       "  'actuator:papy_1',\n",
       "  'actuator:cecicecla_1',\n",
       "  'actuator:papy_3']}"
      ]
     },
     "execution_count": 8,
     "metadata": {},
     "output_type": "execute_result"
    }
   ],
   "source": [
    "m_agent.agents_connexion"
   ]
  },
  {
   "cell_type": "code",
   "execution_count": 9,
   "metadata": {},
   "outputs": [
    {
     "data": {
      "text/plain": [
       "1"
      ]
     },
     "execution_count": 9,
     "metadata": {},
     "output_type": "execute_result"
    }
   ],
   "source": [
    "m_agent.agents_registry['hidden:1_0'].action([2])"
   ]
  },
  {
   "cell_type": "code",
   "execution_count": 10,
   "metadata": {},
   "outputs": [],
   "source": [
    "m_agent.distrib_global_reward(1000, direct_agent_group=\"actuator:papy_3\")"
   ]
  },
  {
   "cell_type": "code",
   "execution_count": 11,
   "metadata": {},
   "outputs": [
    {
     "data": {
      "text/plain": [
       "['sensor:lalala_0',\n",
       " 'sensor:lalala_1',\n",
       " 'actuator:cecicecla_0',\n",
       " 'actuator:cecicecla_1',\n",
       " 'actuator:cecicecla_2',\n",
       " 'actuator:papy_0',\n",
       " 'actuator:papy_1',\n",
       " 'actuator:papy_2',\n",
       " 'actuator:papy_3',\n",
       " 'sensor:ralala_0',\n",
       " 'sensor:ralala_1',\n",
       " 'sensor:ralala_2',\n",
       " 'hidden:1_0',\n",
       " 'hidden:1_1',\n",
       " 'hidden:1_2',\n",
       " 'hidden:1_3',\n",
       " 'hidden:1_4',\n",
       " 'hidden:1_5',\n",
       " 'hidden:1_6',\n",
       " 'hidden:1_7',\n",
       " 'hidden:1_8',\n",
       " 'hidden:1_9']"
      ]
     },
     "execution_count": 11,
     "metadata": {},
     "output_type": "execute_result"
    }
   ],
   "source": [
    "[agent_id for agent_id in m_agent.agents_registry.keys()]"
   ]
  },
  {
   "cell_type": "code",
   "execution_count": 12,
   "metadata": {},
   "outputs": [
    {
     "data": {
      "text/plain": [
       "[10]"
      ]
     },
     "execution_count": 12,
     "metadata": {},
     "output_type": "execute_result"
    }
   ],
   "source": [
    "m_agent.nb_hidden_by_layer_count_list"
   ]
  },
  {
   "cell_type": "code",
   "execution_count": 13,
   "metadata": {},
   "outputs": [
    {
     "data": {
      "text/plain": [
       "[[1.116, 1.116, 1.116],\n",
       " [1.116, 1.116, 1.116],\n",
       " [],\n",
       " [],\n",
       " [],\n",
       " [2.1875],\n",
       " [],\n",
       " [],\n",
       " [35.0],\n",
       " [15.625, 1.116, 1.116],\n",
       " [1.116, 1.116, 1.116, 1.116],\n",
       " [1.116, 1.116, 1.116],\n",
       " [],\n",
       " [31.25, 2.2321, 2.2321],\n",
       " [31.25, 2.2321, 2.2321, 2.2321],\n",
       " [2.2321, 2.2321],\n",
       " [31.25],\n",
       " [2.2321, 2.2321],\n",
       " [31.25, 2.2321, 2.2321],\n",
       " [31.25, 2.2321, 2.2321, 2.2321],\n",
       " [31.25, 2.2321, 2.2321],\n",
       " [2.2321, 2.2321]]"
      ]
     },
     "execution_count": 13,
     "metadata": {},
     "output_type": "execute_result"
    }
   ],
   "source": [
    "[agent.reward_history for agent in m_agent.agents_registry.values()]"
   ]
  }
 ],
 "metadata": {
  "kernelspec": {
   "display_name": "ml_basic",
   "language": "python",
   "name": "python3"
  },
  "language_info": {
   "codemirror_mode": {
    "name": "ipython",
    "version": 3
   },
   "file_extension": ".py",
   "mimetype": "text/x-python",
   "name": "python",
   "nbconvert_exporter": "python",
   "pygments_lexer": "ipython3",
   "version": "3.10.13"
  }
 },
 "nbformat": 4,
 "nbformat_minor": 2
}
